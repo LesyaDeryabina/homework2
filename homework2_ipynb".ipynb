{
  "nbformat": 4,
  "nbformat_minor": 0,
  "metadata": {
    "colab": {
      "provenance": [],
      "include_colab_link": true
    },
    "kernelspec": {
      "name": "python3",
      "display_name": "Python 3"
    },
    "language_info": {
      "name": "python"
    }
  },
  "cells": [
    {
      "cell_type": "markdown",
      "metadata": {
        "id": "view-in-github",
        "colab_type": "text"
      },
      "source": [
        "<a href=\"https://colab.research.google.com/github/LesyaDeryabina/homework2/blob/main/homework2_ipynb%22.ipynb\" target=\"_parent\"><img src=\"https://colab.research.google.com/assets/colab-badge.svg\" alt=\"Open In Colab\"/></a>"
      ]
    },
    {
      "cell_type": "markdown",
      "source": [
        "Работа с файлами, pandas + парсинг\n",
        "Собираем корпус эко-новостей с сайта новостного издания \"Ведомости\"\n",
        "\n",
        "[По этой ссылке можно найти главную страницу](https://www.vedomosti.ru/ecology)\n",
        "\n",
        "Что нам предстоит сделать:\n",
        "\n",
        "достать все заголовки новостей в главной страницы + текст каждой новости\n",
        "\n",
        "сохранить в датафрейм с колонками \"ссылка\", \"дата\", \"заголовок\", \"текст\"\n",
        "\n",
        "сохранить датафрейм в файл\n",
        "\n",
        "положить код и получившийся файл в свой репозиторий на гитхабе"
      ],
      "metadata": {
        "id": "YrHvu0z94BQ2"
      }
    },
    {
      "cell_type": "markdown",
      "source": [
        "# Шаг 1: Достаем ссылки на каждый релиз"
      ],
      "metadata": {
        "id": "53_CcYn4wtlR"
      }
    },
    {
      "cell_type": "code",
      "execution_count": 55,
      "metadata": {
        "id": "kQUDEUeq39_d"
      },
      "outputs": [],
      "source": [
        "import requests as rq\n",
        "from bs4 import BeautifulSoup\n",
        "import json\n",
        "import pandas as pd"
      ]
    },
    {
      "cell_type": "code",
      "source": [
        "url = \"https://www.vedomosti.ru/ecology\"\n",
        "main_page = rq.get(url)\n",
        "print(main_page)"
      ],
      "metadata": {
        "id": "4tZYbYuIoBYS"
      },
      "execution_count": null,
      "outputs": []
    },
    {
      "cell_type": "code",
      "source": [
        "soup = BeautifulSoup(main_page.text, features=\"html.parser\")\n",
        "print(soup.prettify())"
      ],
      "metadata": {
        "id": "ruwJnQLfphZ_"
      },
      "execution_count": null,
      "outputs": []
    },
    {
      "cell_type": "code",
      "source": [
        "urls = []\n",
        "\n",
        "for link in soup.find_all('a'):\n",
        "    urls.append(link.get('href'))\n",
        "\n",
        "urls"
      ],
      "metadata": {
        "id": "pEDC2RiProdY"
      },
      "execution_count": null,
      "outputs": []
    },
    {
      "cell_type": "code",
      "source": [
        "new_urls = []\n",
        "for link in soup.find_all('a'):\n",
        "  if 'release' in link.get('href') and link.get('href') not in new_urls:\n",
        "    new_urls.append(link.get('href')) \n",
        "\n",
        "new_urls"
      ],
      "metadata": {
        "id": "uAdc6RPkN3y0"
      },
      "execution_count": null,
      "outputs": []
    },
    {
      "cell_type": "code",
      "source": [
        "full_urls = []\n",
        "for i in new_urls:\n",
        "  full_urls.append(f'https://www.vedomosti.ru{i}')\n",
        "\n",
        "full_urls"
      ],
      "metadata": {
        "id": "1uTsL6qns8_P"
      },
      "execution_count": null,
      "outputs": []
    },
    {
      "cell_type": "markdown",
      "source": [
        "# Шаг 2: Достаем все ссылки на статьи из каждого релиза"
      ],
      "metadata": {
        "id": "vuw3cllfOXYW"
      }
    },
    {
      "cell_type": "code",
      "source": [
        "for link in full_urls:\n",
        "  url0 = full_urls[0]\n",
        "  page0 = rq.get(url0)\n",
        "  soup0 = BeautifulSoup(page0.text, features=\"html.parser\")"
      ],
      "metadata": {
        "id": "aZEq0woBw0vM"
      },
      "execution_count": 61,
      "outputs": []
    },
    {
      "cell_type": "code",
      "source": [
        "articles0 = []\n",
        "\n",
        "for link in soup0.find_all('a', href=True):\n",
        "  if 'articles' in link.get('href') or 'columns' in link.get('href') and link.get('href') not in articles0:\n",
        "      articles0.append(link.get('href'))\n",
        "\n",
        "articles0"
      ],
      "metadata": {
        "id": "Cc8uQsGZEdGz",
        "colab": {
          "base_uri": "https://localhost:8080/"
        },
        "outputId": "31451234-6bfc-4d60-8d47-717b3be1f43f"
      },
      "execution_count": 62,
      "outputs": [
        {
          "output_type": "execute_result",
          "data": {
            "text/plain": [
              "['/ecology/climate/articles/2022/12/12/954783-metan-nedolgovechnii-no-kovarnii',\n",
              " '/ecology/climate/columns/2022/12/12/954773-klimaticheskie-izmeneniya-i-ustoichivoe-razvitie',\n",
              " '/ecology/science_and_technology/articles/2022/12/12/954778-dobivayuschei-otrasli-prognoziruyut-diversifikatsiyu']"
            ]
          },
          "metadata": {},
          "execution_count": 62
        }
      ]
    },
    {
      "cell_type": "code",
      "source": [
        "def AL(url0):\n",
        "  page0 = rq.get(url0)\n",
        "  soup0 = BeautifulSoup(page0.text, features=\"html.parser\")\n",
        "  articles0 = []\n",
        "  for link in soup0.find_all('a', href=True):\n",
        "    if 'articles' in link.get('href') or 'columns' in link.get('href') and link.get('href') not in articles0:\n",
        "      articles0.append(link.get('href'))  \n",
        "  return articles0"
      ],
      "metadata": {
        "id": "kTqCMjgYfkIC"
      },
      "execution_count": 63,
      "outputs": []
    },
    {
      "cell_type": "code",
      "source": [
        "all_articles = []\n",
        "for link in full_urls:\n",
        "  articles = AL(link)\n",
        "  all_articles.extend(articles)\n",
        "\n",
        "all_articles"
      ],
      "metadata": {
        "id": "kR_E9q1ugWOA"
      },
      "execution_count": null,
      "outputs": []
    },
    {
      "cell_type": "code",
      "source": [
        "full_artricles = []\n",
        "\n",
        "for i in all_articles:\n",
        "  full_artricles.append(f'https://www.vedomosti.ru{i}')\n",
        "\n",
        "full_artricles"
      ],
      "metadata": {
        "id": "sA5ibiQyKR2s"
      },
      "execution_count": null,
      "outputs": []
    },
    {
      "cell_type": "markdown",
      "source": [
        "# Шаг 3: Проходимся по каждой ссылке и достаем тексты статей"
      ],
      "metadata": {
        "id": "l1eo-qRGPCI5"
      }
    },
    {
      "cell_type": "code",
      "source": [
        "for link in full_artricles:\n",
        "  url_0 = full_artricles[0]\n",
        "  page_0 = rq.get(url_0)\n",
        "  soup_0 = BeautifulSoup(page_0.text, features=\"html.parser\")"
      ],
      "metadata": {
        "id": "ayCEwYeGfKX7"
      },
      "execution_count": 66,
      "outputs": []
    },
    {
      "cell_type": "code",
      "source": [
        "script = soup_0.find_all('script')[1]\n",
        "script"
      ],
      "metadata": {
        "id": "weogpoFAGNda"
      },
      "execution_count": null,
      "outputs": []
    },
    {
      "cell_type": "code",
      "source": [
        "data = json.loads(script.get_text())\n",
        "data"
      ],
      "metadata": {
        "id": "en7lqAECBvZ0"
      },
      "execution_count": null,
      "outputs": []
    },
    {
      "cell_type": "code",
      "source": [
        "title = data[\"name\"]\n",
        "date = data[\"datePublished\"][:10]\n",
        "print(title, date)"
      ],
      "metadata": {
        "id": "8DMKcnKs9udZ"
      },
      "execution_count": null,
      "outputs": []
    },
    {
      "cell_type": "code",
      "source": [
        "text_list = soup_0.find_all('p', {'class' : 'box-paragraph__text'})\n",
        "text_list"
      ],
      "metadata": {
        "id": "dnA1jYjbMFtw"
      },
      "execution_count": null,
      "outputs": []
    },
    {
      "cell_type": "code",
      "source": [
        "text = []\n",
        "for i in text_list:\n",
        "  text.append(i.text)\n",
        "text"
      ],
      "metadata": {
        "id": "4K5R8i-Kwauf"
      },
      "execution_count": null,
      "outputs": []
    },
    {
      "cell_type": "code",
      "source": [
        "final_text = ' '.join(text)\n",
        "final_text"
      ],
      "metadata": {
        "id": "PsQbL4bsFqvT"
      },
      "execution_count": null,
      "outputs": []
    },
    {
      "cell_type": "code",
      "source": [
        "def News(url_0):\n",
        "  page_0 = rq.get(url_0)\n",
        "  soup_0 = BeautifulSoup(page_0.text, features=\"html.parser\")\n",
        "  script = soup_0.find_all('script')[1]\n",
        "  data = json.loads(script.get_text())\n",
        "  title = data[\"name\"]\n",
        "  date = data[\"datePublished\"][:10]\n",
        "  text_list = soup_0.find_all('p', {'class' : 'box-paragraph__text'})\n",
        "  text = []\n",
        "  for i in text_list:\n",
        "    text.append(i.text)\n",
        "  final_text = ' '.join(text)\n",
        "  return url_0, title, date, final_text"
      ],
      "metadata": {
        "id": "iwbUpUwEIjzO"
      },
      "execution_count": 73,
      "outputs": []
    },
    {
      "cell_type": "code",
      "source": [
        "all_news = []\n",
        "\n",
        "for link in full_artricles:\n",
        "  new = News(link)\n",
        "  all_news.append(new)"
      ],
      "metadata": {
        "id": "mMaCKxasJTpv"
      },
      "execution_count": 74,
      "outputs": []
    },
    {
      "cell_type": "code",
      "source": [
        "df = pd.DataFrame(all_news)\n",
        "df.head()"
      ],
      "metadata": {
        "id": "8mZ5Q_7oJ5xs",
        "colab": {
          "base_uri": "https://localhost:8080/",
          "height": 0
        },
        "outputId": "99a749bf-9b0c-440f-e037-c5e685a72db9"
      },
      "execution_count": 75,
      "outputs": [
        {
          "output_type": "execute_result",
          "data": {
            "text/plain": [
              "                                                   0  \\\n",
              "0  https://www.vedomosti.ru/ecology/climate/artic...   \n",
              "1  https://www.vedomosti.ru/ecology/climate/colum...   \n",
              "2  https://www.vedomosti.ru/ecology/science_and_t...   \n",
              "3  https://www.vedomosti.ru/ecology/climate/artic...   \n",
              "4  https://www.vedomosti.ru/ecology/science_and_t...   \n",
              "\n",
              "                                                1           2  \\\n",
              "0              Метан – недолговечный, но коварный  2022-12-12   \n",
              "1   Климатические изменения и устойчивое развитие  2022-12-12   \n",
              "2  Добывающей отрасли прогнозируют диверсификацию  2022-12-12   \n",
              "3                     Энергетика с нулевым следом  2022-12-08   \n",
              "4   «Россия» станет самым мощным ледоколом в мире  2022-12-08   \n",
              "\n",
              "                                                   3  \n",
              "0  Российские нефтегазовые компании активно участ...  \n",
              "1  Современные климатические изменения представля...  \n",
              "2  В условиях макроэкономической нестабильности и...  \n",
              "3  Климатическая повестка, декарбонизация, зелена...  \n",
              "4  И. о. генерального директора ФГУП «Атомфлот», ...  "
            ],
            "text/html": [
              "\n",
              "  <div id=\"df-5235de96-68b1-4242-a395-2e699a3e6bdf\">\n",
              "    <div class=\"colab-df-container\">\n",
              "      <div>\n",
              "<style scoped>\n",
              "    .dataframe tbody tr th:only-of-type {\n",
              "        vertical-align: middle;\n",
              "    }\n",
              "\n",
              "    .dataframe tbody tr th {\n",
              "        vertical-align: top;\n",
              "    }\n",
              "\n",
              "    .dataframe thead th {\n",
              "        text-align: right;\n",
              "    }\n",
              "</style>\n",
              "<table border=\"1\" class=\"dataframe\">\n",
              "  <thead>\n",
              "    <tr style=\"text-align: right;\">\n",
              "      <th></th>\n",
              "      <th>0</th>\n",
              "      <th>1</th>\n",
              "      <th>2</th>\n",
              "      <th>3</th>\n",
              "    </tr>\n",
              "  </thead>\n",
              "  <tbody>\n",
              "    <tr>\n",
              "      <th>0</th>\n",
              "      <td>https://www.vedomosti.ru/ecology/climate/artic...</td>\n",
              "      <td>Метан – недолговечный, но коварный</td>\n",
              "      <td>2022-12-12</td>\n",
              "      <td>Российские нефтегазовые компании активно участ...</td>\n",
              "    </tr>\n",
              "    <tr>\n",
              "      <th>1</th>\n",
              "      <td>https://www.vedomosti.ru/ecology/climate/colum...</td>\n",
              "      <td>Климатические изменения и устойчивое развитие</td>\n",
              "      <td>2022-12-12</td>\n",
              "      <td>Современные климатические изменения представля...</td>\n",
              "    </tr>\n",
              "    <tr>\n",
              "      <th>2</th>\n",
              "      <td>https://www.vedomosti.ru/ecology/science_and_t...</td>\n",
              "      <td>Добывающей отрасли прогнозируют диверсификацию</td>\n",
              "      <td>2022-12-12</td>\n",
              "      <td>В условиях макроэкономической нестабильности и...</td>\n",
              "    </tr>\n",
              "    <tr>\n",
              "      <th>3</th>\n",
              "      <td>https://www.vedomosti.ru/ecology/climate/artic...</td>\n",
              "      <td>Энергетика с нулевым следом</td>\n",
              "      <td>2022-12-08</td>\n",
              "      <td>Климатическая повестка, декарбонизация, зелена...</td>\n",
              "    </tr>\n",
              "    <tr>\n",
              "      <th>4</th>\n",
              "      <td>https://www.vedomosti.ru/ecology/science_and_t...</td>\n",
              "      <td>«Россия» станет самым мощным ледоколом в мире</td>\n",
              "      <td>2022-12-08</td>\n",
              "      <td>И. о. генерального директора ФГУП «Атомфлот», ...</td>\n",
              "    </tr>\n",
              "  </tbody>\n",
              "</table>\n",
              "</div>\n",
              "      <button class=\"colab-df-convert\" onclick=\"convertToInteractive('df-5235de96-68b1-4242-a395-2e699a3e6bdf')\"\n",
              "              title=\"Convert this dataframe to an interactive table.\"\n",
              "              style=\"display:none;\">\n",
              "        \n",
              "  <svg xmlns=\"http://www.w3.org/2000/svg\" height=\"24px\"viewBox=\"0 0 24 24\"\n",
              "       width=\"24px\">\n",
              "    <path d=\"M0 0h24v24H0V0z\" fill=\"none\"/>\n",
              "    <path d=\"M18.56 5.44l.94 2.06.94-2.06 2.06-.94-2.06-.94-.94-2.06-.94 2.06-2.06.94zm-11 1L8.5 8.5l.94-2.06 2.06-.94-2.06-.94L8.5 2.5l-.94 2.06-2.06.94zm10 10l.94 2.06.94-2.06 2.06-.94-2.06-.94-.94-2.06-.94 2.06-2.06.94z\"/><path d=\"M17.41 7.96l-1.37-1.37c-.4-.4-.92-.59-1.43-.59-.52 0-1.04.2-1.43.59L10.3 9.45l-7.72 7.72c-.78.78-.78 2.05 0 2.83L4 21.41c.39.39.9.59 1.41.59.51 0 1.02-.2 1.41-.59l7.78-7.78 2.81-2.81c.8-.78.8-2.07 0-2.86zM5.41 20L4 18.59l7.72-7.72 1.47 1.35L5.41 20z\"/>\n",
              "  </svg>\n",
              "      </button>\n",
              "      \n",
              "  <style>\n",
              "    .colab-df-container {\n",
              "      display:flex;\n",
              "      flex-wrap:wrap;\n",
              "      gap: 12px;\n",
              "    }\n",
              "\n",
              "    .colab-df-convert {\n",
              "      background-color: #E8F0FE;\n",
              "      border: none;\n",
              "      border-radius: 50%;\n",
              "      cursor: pointer;\n",
              "      display: none;\n",
              "      fill: #1967D2;\n",
              "      height: 32px;\n",
              "      padding: 0 0 0 0;\n",
              "      width: 32px;\n",
              "    }\n",
              "\n",
              "    .colab-df-convert:hover {\n",
              "      background-color: #E2EBFA;\n",
              "      box-shadow: 0px 1px 2px rgba(60, 64, 67, 0.3), 0px 1px 3px 1px rgba(60, 64, 67, 0.15);\n",
              "      fill: #174EA6;\n",
              "    }\n",
              "\n",
              "    [theme=dark] .colab-df-convert {\n",
              "      background-color: #3B4455;\n",
              "      fill: #D2E3FC;\n",
              "    }\n",
              "\n",
              "    [theme=dark] .colab-df-convert:hover {\n",
              "      background-color: #434B5C;\n",
              "      box-shadow: 0px 1px 3px 1px rgba(0, 0, 0, 0.15);\n",
              "      filter: drop-shadow(0px 1px 2px rgba(0, 0, 0, 0.3));\n",
              "      fill: #FFFFFF;\n",
              "    }\n",
              "  </style>\n",
              "\n",
              "      <script>\n",
              "        const buttonEl =\n",
              "          document.querySelector('#df-5235de96-68b1-4242-a395-2e699a3e6bdf button.colab-df-convert');\n",
              "        buttonEl.style.display =\n",
              "          google.colab.kernel.accessAllowed ? 'block' : 'none';\n",
              "\n",
              "        async function convertToInteractive(key) {\n",
              "          const element = document.querySelector('#df-5235de96-68b1-4242-a395-2e699a3e6bdf');\n",
              "          const dataTable =\n",
              "            await google.colab.kernel.invokeFunction('convertToInteractive',\n",
              "                                                     [key], {});\n",
              "          if (!dataTable) return;\n",
              "\n",
              "          const docLinkHtml = 'Like what you see? Visit the ' +\n",
              "            '<a target=\"_blank\" href=https://colab.research.google.com/notebooks/data_table.ipynb>data table notebook</a>'\n",
              "            + ' to learn more about interactive tables.';\n",
              "          element.innerHTML = '';\n",
              "          dataTable['output_type'] = 'display_data';\n",
              "          await google.colab.output.renderOutput(dataTable, element);\n",
              "          const docLink = document.createElement('div');\n",
              "          docLink.innerHTML = docLinkHtml;\n",
              "          element.appendChild(docLink);\n",
              "        }\n",
              "      </script>\n",
              "    </div>\n",
              "  </div>\n",
              "  "
            ]
          },
          "metadata": {},
          "execution_count": 75
        }
      ]
    },
    {
      "cell_type": "code",
      "source": [
        "df.columns = ['link', 'title', 'date', 'text']"
      ],
      "metadata": {
        "id": "RGECCFtwKHiF"
      },
      "execution_count": 76,
      "outputs": []
    },
    {
      "cell_type": "code",
      "source": [
        "df.head()"
      ],
      "metadata": {
        "id": "jP706l6JLAky",
        "colab": {
          "base_uri": "https://localhost:8080/",
          "height": 0
        },
        "outputId": "aa3b724f-f115-4870-8f1c-900d9c2192cc"
      },
      "execution_count": 79,
      "outputs": [
        {
          "output_type": "execute_result",
          "data": {
            "text/plain": [
              "                                                link  \\\n",
              "0  https://www.vedomosti.ru/ecology/climate/artic...   \n",
              "1  https://www.vedomosti.ru/ecology/climate/colum...   \n",
              "2  https://www.vedomosti.ru/ecology/science_and_t...   \n",
              "3  https://www.vedomosti.ru/ecology/climate/artic...   \n",
              "4  https://www.vedomosti.ru/ecology/science_and_t...   \n",
              "\n",
              "                                            title        date  \\\n",
              "0              Метан – недолговечный, но коварный  2022-12-12   \n",
              "1   Климатические изменения и устойчивое развитие  2022-12-12   \n",
              "2  Добывающей отрасли прогнозируют диверсификацию  2022-12-12   \n",
              "3                     Энергетика с нулевым следом  2022-12-08   \n",
              "4   «Россия» станет самым мощным ледоколом в мире  2022-12-08   \n",
              "\n",
              "                                                text  \n",
              "0  Российские нефтегазовые компании активно участ...  \n",
              "1  Современные климатические изменения представля...  \n",
              "2  В условиях макроэкономической нестабильности и...  \n",
              "3  Климатическая повестка, декарбонизация, зелена...  \n",
              "4  И. о. генерального директора ФГУП «Атомфлот», ...  "
            ],
            "text/html": [
              "\n",
              "  <div id=\"df-3a83fc97-6f34-4e13-ad7f-32267e1d2a96\">\n",
              "    <div class=\"colab-df-container\">\n",
              "      <div>\n",
              "<style scoped>\n",
              "    .dataframe tbody tr th:only-of-type {\n",
              "        vertical-align: middle;\n",
              "    }\n",
              "\n",
              "    .dataframe tbody tr th {\n",
              "        vertical-align: top;\n",
              "    }\n",
              "\n",
              "    .dataframe thead th {\n",
              "        text-align: right;\n",
              "    }\n",
              "</style>\n",
              "<table border=\"1\" class=\"dataframe\">\n",
              "  <thead>\n",
              "    <tr style=\"text-align: right;\">\n",
              "      <th></th>\n",
              "      <th>link</th>\n",
              "      <th>title</th>\n",
              "      <th>date</th>\n",
              "      <th>text</th>\n",
              "    </tr>\n",
              "  </thead>\n",
              "  <tbody>\n",
              "    <tr>\n",
              "      <th>0</th>\n",
              "      <td>https://www.vedomosti.ru/ecology/climate/artic...</td>\n",
              "      <td>Метан – недолговечный, но коварный</td>\n",
              "      <td>2022-12-12</td>\n",
              "      <td>Российские нефтегазовые компании активно участ...</td>\n",
              "    </tr>\n",
              "    <tr>\n",
              "      <th>1</th>\n",
              "      <td>https://www.vedomosti.ru/ecology/climate/colum...</td>\n",
              "      <td>Климатические изменения и устойчивое развитие</td>\n",
              "      <td>2022-12-12</td>\n",
              "      <td>Современные климатические изменения представля...</td>\n",
              "    </tr>\n",
              "    <tr>\n",
              "      <th>2</th>\n",
              "      <td>https://www.vedomosti.ru/ecology/science_and_t...</td>\n",
              "      <td>Добывающей отрасли прогнозируют диверсификацию</td>\n",
              "      <td>2022-12-12</td>\n",
              "      <td>В условиях макроэкономической нестабильности и...</td>\n",
              "    </tr>\n",
              "    <tr>\n",
              "      <th>3</th>\n",
              "      <td>https://www.vedomosti.ru/ecology/climate/artic...</td>\n",
              "      <td>Энергетика с нулевым следом</td>\n",
              "      <td>2022-12-08</td>\n",
              "      <td>Климатическая повестка, декарбонизация, зелена...</td>\n",
              "    </tr>\n",
              "    <tr>\n",
              "      <th>4</th>\n",
              "      <td>https://www.vedomosti.ru/ecology/science_and_t...</td>\n",
              "      <td>«Россия» станет самым мощным ледоколом в мире</td>\n",
              "      <td>2022-12-08</td>\n",
              "      <td>И. о. генерального директора ФГУП «Атомфлот», ...</td>\n",
              "    </tr>\n",
              "  </tbody>\n",
              "</table>\n",
              "</div>\n",
              "      <button class=\"colab-df-convert\" onclick=\"convertToInteractive('df-3a83fc97-6f34-4e13-ad7f-32267e1d2a96')\"\n",
              "              title=\"Convert this dataframe to an interactive table.\"\n",
              "              style=\"display:none;\">\n",
              "        \n",
              "  <svg xmlns=\"http://www.w3.org/2000/svg\" height=\"24px\"viewBox=\"0 0 24 24\"\n",
              "       width=\"24px\">\n",
              "    <path d=\"M0 0h24v24H0V0z\" fill=\"none\"/>\n",
              "    <path d=\"M18.56 5.44l.94 2.06.94-2.06 2.06-.94-2.06-.94-.94-2.06-.94 2.06-2.06.94zm-11 1L8.5 8.5l.94-2.06 2.06-.94-2.06-.94L8.5 2.5l-.94 2.06-2.06.94zm10 10l.94 2.06.94-2.06 2.06-.94-2.06-.94-.94-2.06-.94 2.06-2.06.94z\"/><path d=\"M17.41 7.96l-1.37-1.37c-.4-.4-.92-.59-1.43-.59-.52 0-1.04.2-1.43.59L10.3 9.45l-7.72 7.72c-.78.78-.78 2.05 0 2.83L4 21.41c.39.39.9.59 1.41.59.51 0 1.02-.2 1.41-.59l7.78-7.78 2.81-2.81c.8-.78.8-2.07 0-2.86zM5.41 20L4 18.59l7.72-7.72 1.47 1.35L5.41 20z\"/>\n",
              "  </svg>\n",
              "      </button>\n",
              "      \n",
              "  <style>\n",
              "    .colab-df-container {\n",
              "      display:flex;\n",
              "      flex-wrap:wrap;\n",
              "      gap: 12px;\n",
              "    }\n",
              "\n",
              "    .colab-df-convert {\n",
              "      background-color: #E8F0FE;\n",
              "      border: none;\n",
              "      border-radius: 50%;\n",
              "      cursor: pointer;\n",
              "      display: none;\n",
              "      fill: #1967D2;\n",
              "      height: 32px;\n",
              "      padding: 0 0 0 0;\n",
              "      width: 32px;\n",
              "    }\n",
              "\n",
              "    .colab-df-convert:hover {\n",
              "      background-color: #E2EBFA;\n",
              "      box-shadow: 0px 1px 2px rgba(60, 64, 67, 0.3), 0px 1px 3px 1px rgba(60, 64, 67, 0.15);\n",
              "      fill: #174EA6;\n",
              "    }\n",
              "\n",
              "    [theme=dark] .colab-df-convert {\n",
              "      background-color: #3B4455;\n",
              "      fill: #D2E3FC;\n",
              "    }\n",
              "\n",
              "    [theme=dark] .colab-df-convert:hover {\n",
              "      background-color: #434B5C;\n",
              "      box-shadow: 0px 1px 3px 1px rgba(0, 0, 0, 0.15);\n",
              "      filter: drop-shadow(0px 1px 2px rgba(0, 0, 0, 0.3));\n",
              "      fill: #FFFFFF;\n",
              "    }\n",
              "  </style>\n",
              "\n",
              "      <script>\n",
              "        const buttonEl =\n",
              "          document.querySelector('#df-3a83fc97-6f34-4e13-ad7f-32267e1d2a96 button.colab-df-convert');\n",
              "        buttonEl.style.display =\n",
              "          google.colab.kernel.accessAllowed ? 'block' : 'none';\n",
              "\n",
              "        async function convertToInteractive(key) {\n",
              "          const element = document.querySelector('#df-3a83fc97-6f34-4e13-ad7f-32267e1d2a96');\n",
              "          const dataTable =\n",
              "            await google.colab.kernel.invokeFunction('convertToInteractive',\n",
              "                                                     [key], {});\n",
              "          if (!dataTable) return;\n",
              "\n",
              "          const docLinkHtml = 'Like what you see? Visit the ' +\n",
              "            '<a target=\"_blank\" href=https://colab.research.google.com/notebooks/data_table.ipynb>data table notebook</a>'\n",
              "            + ' to learn more about interactive tables.';\n",
              "          element.innerHTML = '';\n",
              "          dataTable['output_type'] = 'display_data';\n",
              "          await google.colab.output.renderOutput(dataTable, element);\n",
              "          const docLink = document.createElement('div');\n",
              "          docLink.innerHTML = docLinkHtml;\n",
              "          element.appendChild(docLink);\n",
              "        }\n",
              "      </script>\n",
              "    </div>\n",
              "  </div>\n",
              "  "
            ]
          },
          "metadata": {},
          "execution_count": 79
        }
      ]
    },
    {
      "cell_type": "code",
      "source": [
        "df.to_excel('ecology_news.xlsx')"
      ],
      "metadata": {
        "id": "WsaB9Kj3KefZ"
      },
      "execution_count": 78,
      "outputs": []
    }
  ]
}